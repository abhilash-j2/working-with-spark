{
 "cells": [
  {
   "cell_type": "code",
   "execution_count": 2,
   "id": "exceptional-father",
   "metadata": {
    "ExecuteTime": {
     "end_time": "2021-02-10T03:54:21.982412Z",
     "start_time": "2021-02-10T03:54:21.965427Z"
    }
   },
   "outputs": [],
   "source": [
    "import findspark"
   ]
  },
  {
   "cell_type": "code",
   "execution_count": 3,
   "id": "convertible-flight",
   "metadata": {
    "ExecuteTime": {
     "end_time": "2021-02-10T03:54:22.774982Z",
     "start_time": "2021-02-10T03:54:22.755996Z"
    }
   },
   "outputs": [],
   "source": [
    "findspark.init()"
   ]
  },
  {
   "cell_type": "code",
   "execution_count": 4,
   "id": "legal-enterprise",
   "metadata": {
    "ExecuteTime": {
     "end_time": "2021-02-10T03:54:24.227315Z",
     "start_time": "2021-02-10T03:54:24.020316Z"
    }
   },
   "outputs": [],
   "source": [
    "from pyspark import SparkConf, SparkContext"
   ]
  },
  {
   "cell_type": "code",
   "execution_count": 5,
   "id": "connected-medicine",
   "metadata": {
    "ExecuteTime": {
     "end_time": "2021-02-10T03:54:25.277861Z",
     "start_time": "2021-02-10T03:54:25.274863Z"
    }
   },
   "outputs": [],
   "source": [
    "conf = SparkConf()"
   ]
  },
  {
   "cell_type": "code",
   "execution_count": 10,
   "id": "surface-broad",
   "metadata": {
    "ExecuteTime": {
     "end_time": "2021-02-10T03:37:16.034891Z",
     "start_time": "2021-02-10T03:37:16.026863Z"
    }
   },
   "outputs": [
    {
     "data": {
      "text/plain": [
       "<pyspark.conf.SparkConf at 0x296bd07c460>"
      ]
     },
     "execution_count": 10,
     "metadata": {},
     "output_type": "execute_result"
    }
   ],
   "source": [
    "conf"
   ]
  },
  {
   "cell_type": "code",
   "execution_count": 6,
   "id": "independent-directory",
   "metadata": {
    "ExecuteTime": {
     "end_time": "2021-02-10T03:54:31.629809Z",
     "start_time": "2021-02-10T03:54:27.717655Z"
    }
   },
   "outputs": [],
   "source": [
    "sc = SparkContext(conf=conf)"
   ]
  },
  {
   "cell_type": "code",
   "execution_count": 7,
   "id": "initial-blond",
   "metadata": {
    "ExecuteTime": {
     "end_time": "2021-02-10T03:54:32.555463Z",
     "start_time": "2021-02-10T03:54:32.532463Z"
    }
   },
   "outputs": [
    {
     "data": {
      "text/html": [
       "\n",
       "        <div>\n",
       "            <p><b>SparkContext</b></p>\n",
       "\n",
       "            <p><a href=\"http://kubernetes.docker.internal:4040\">Spark UI</a></p>\n",
       "\n",
       "            <dl>\n",
       "              <dt>Version</dt>\n",
       "                <dd><code>v3.0.1</code></dd>\n",
       "              <dt>Master</dt>\n",
       "                <dd><code>local[*]</code></dd>\n",
       "              <dt>AppName</dt>\n",
       "                <dd><code>pyspark-shell</code></dd>\n",
       "            </dl>\n",
       "        </div>\n",
       "        "
      ],
      "text/plain": [
       "<SparkContext master=local[*] appName=pyspark-shell>"
      ]
     },
     "execution_count": 7,
     "metadata": {},
     "output_type": "execute_result"
    }
   ],
   "source": [
    "sc"
   ]
  },
  {
   "cell_type": "code",
   "execution_count": 10,
   "id": "serious-gambling",
   "metadata": {
    "ExecuteTime": {
     "end_time": "2021-02-10T03:55:08.442332Z",
     "start_time": "2021-02-10T03:55:08.404308Z"
    }
   },
   "outputs": [],
   "source": [
    "lines = sc.textFile(\"../ClassWork/snap.stanford.cs246mmds2019/hw0/pg100.txt\")"
   ]
  },
  {
   "cell_type": "code",
   "execution_count": 11,
   "id": "editorial-reality",
   "metadata": {
    "ExecuteTime": {
     "end_time": "2021-02-10T03:55:09.764408Z",
     "start_time": "2021-02-10T03:55:09.199409Z"
    }
   },
   "outputs": [
    {
     "data": {
      "text/plain": [
       "['The Project Gutenberg EBook of The Complete Works of William Shakespeare, by',\n",
       " 'William Shakespeare',\n",
       " '']"
      ]
     },
     "execution_count": 11,
     "metadata": {},
     "output_type": "execute_result"
    }
   ],
   "source": [
    "lines.take(3)"
   ]
  },
  {
   "cell_type": "code",
   "execution_count": 12,
   "id": "threaded-norman",
   "metadata": {
    "ExecuteTime": {
     "end_time": "2021-02-10T03:55:11.013913Z",
     "start_time": "2021-02-10T03:55:11.007949Z"
    }
   },
   "outputs": [],
   "source": [
    "import re"
   ]
  },
  {
   "cell_type": "code",
   "execution_count": 13,
   "id": "competent-police",
   "metadata": {
    "ExecuteTime": {
     "end_time": "2021-02-10T03:55:13.503228Z",
     "start_time": "2021-02-10T03:55:13.497263Z"
    }
   },
   "outputs": [],
   "source": [
    "words = lines.flatMap(lambda l: re.split(r\"[^\\w]+\", l))"
   ]
  },
  {
   "cell_type": "code",
   "execution_count": 14,
   "id": "living-acoustic",
   "metadata": {
    "ExecuteTime": {
     "end_time": "2021-02-10T03:55:15.088489Z",
     "start_time": "2021-02-10T03:55:14.567486Z"
    }
   },
   "outputs": [
    {
     "data": {
      "text/plain": [
       "['The', 'Project', 'Gutenberg', 'EBook', 'of']"
      ]
     },
     "execution_count": 14,
     "metadata": {},
     "output_type": "execute_result"
    }
   ],
   "source": [
    "words.take(5)"
   ]
  },
  {
   "cell_type": "code",
   "execution_count": 15,
   "id": "organized-spouse",
   "metadata": {
    "ExecuteTime": {
     "end_time": "2021-02-10T03:55:16.452758Z",
     "start_time": "2021-02-10T03:55:16.445725Z"
    }
   },
   "outputs": [],
   "source": [
    "pairs = words.map(lambda x: (x.lower(), 1))"
   ]
  },
  {
   "cell_type": "code",
   "execution_count": 16,
   "id": "registered-onion",
   "metadata": {
    "ExecuteTime": {
     "end_time": "2021-02-10T03:55:17.615407Z",
     "start_time": "2021-02-10T03:55:17.568359Z"
    }
   },
   "outputs": [],
   "source": [
    "counts = pairs.reduceByKey(lambda a, b: a + b)"
   ]
  },
  {
   "cell_type": "code",
   "execution_count": 17,
   "id": "opened-office",
   "metadata": {
    "ExecuteTime": {
     "end_time": "2021-02-10T03:55:20.476866Z",
     "start_time": "2021-02-10T03:55:18.192810Z"
    }
   },
   "outputs": [
    {
     "data": {
      "text/plain": [
       "[('project', 331),\n",
       " ('gutenberg', 326),\n",
       " ('ebook', 17),\n",
       " ('of', 18307),\n",
       " ('shakespeare', 272)]"
      ]
     },
     "execution_count": 17,
     "metadata": {},
     "output_type": "execute_result"
    }
   ],
   "source": [
    "counts.take(5)"
   ]
  },
  {
   "cell_type": "code",
   "execution_count": 18,
   "id": "outdoor-elimination",
   "metadata": {
    "ExecuteTime": {
     "end_time": "2021-02-10T03:55:25.093377Z",
     "start_time": "2021-02-10T03:55:23.089937Z"
    }
   },
   "outputs": [],
   "source": [
    "counts = counts.sortBy(lambda x: x[1],ascending=False)"
   ]
  },
  {
   "cell_type": "code",
   "execution_count": 19,
   "id": "working-bracket",
   "metadata": {
    "ExecuteTime": {
     "end_time": "2021-02-10T03:55:46.550327Z",
     "start_time": "2021-02-10T03:55:44.384319Z"
    }
   },
   "outputs": [],
   "source": [
    "counts.saveAsTextFile(\"../../REPOSITORY/HadoopTmp/wordcount\")"
   ]
  },
  {
   "cell_type": "code",
   "execution_count": 40,
   "id": "prompt-pixel",
   "metadata": {
    "ExecuteTime": {
     "end_time": "2021-02-10T04:08:13.213529Z",
     "start_time": "2021-02-10T04:08:09.050489Z"
    }
   },
   "outputs": [],
   "source": [
    "starts_with_counts = words.map(lambda x: (x.lower()[:1], 1)) \\\n",
    "                        .filter(lambda pair: re.match(\"[a-z]\", pair[0])) \\\n",
    "                          .reduceByKey(lambda a,b: a + b) \\\n",
    "                          .sortBy(lambda x: x[1],ascending=False)"
   ]
  },
  {
   "cell_type": "code",
   "execution_count": 41,
   "id": "determined-census",
   "metadata": {
    "ExecuteTime": {
     "end_time": "2021-02-10T04:08:21.230872Z",
     "start_time": "2021-02-10T04:08:19.349815Z"
    }
   },
   "outputs": [
    {
     "data": {
      "text/plain": [
       "[('t', 127781),\n",
       " ('a', 86000),\n",
       " ('s', 75226),\n",
       " ('i', 62420),\n",
       " ('h', 61028),\n",
       " ('w', 60097),\n",
       " ('m', 56252),\n",
       " ('b', 46001),\n",
       " ('o', 43712),\n",
       " ('d', 39173),\n",
       " ('f', 37186),\n",
       " ('c', 34983),\n",
       " ('l', 32389),\n",
       " ('p', 28059),\n",
       " ('n', 27313),\n",
       " ('y', 25926),\n",
       " ('g', 21167),\n",
       " ('e', 20409),\n",
       " ('r', 15234),\n",
       " ('k', 9535),\n",
       " ('u', 9230),\n",
       " ('v', 5801),\n",
       " ('j', 3372),\n",
       " ('q', 2388),\n",
       " ('z', 79),\n",
       " ('x', 14)]"
      ]
     },
     "execution_count": 41,
     "metadata": {},
     "output_type": "execute_result"
    }
   ],
   "source": [
    "starts_with_counts.collect()"
   ]
  },
  {
   "cell_type": "code",
   "execution_count": 38,
   "id": "accomplished-minority",
   "metadata": {
    "ExecuteTime": {
     "end_time": "2021-02-10T04:05:43.640250Z",
     "start_time": "2021-02-10T04:05:42.502570Z"
    }
   },
   "outputs": [],
   "source": [
    "starts_with_counts.saveAsTextFile(\"../../REPOSITORY/HadoopTmp/starts_with_count\")"
   ]
  },
  {
   "cell_type": "code",
   "execution_count": null,
   "id": "impressive-assets",
   "metadata": {},
   "outputs": [],
   "source": []
  },
  {
   "cell_type": "code",
   "execution_count": 42,
   "id": "stupid-metallic",
   "metadata": {
    "ExecuteTime": {
     "end_time": "2021-02-10T04:11:29.924439Z",
     "start_time": "2021-02-10T04:11:29.651671Z"
    }
   },
   "outputs": [],
   "source": [
    "sc.stop()"
   ]
  },
  {
   "cell_type": "code",
   "execution_count": null,
   "id": "quarterly-growth",
   "metadata": {},
   "outputs": [],
   "source": []
  }
 ],
 "metadata": {
  "@webio": {
   "lastCommId": null,
   "lastKernelId": null
  },
  "kernelspec": {
   "display_name": "Python (torch3.8)",
   "language": "python",
   "name": "torch3.8"
  },
  "language_info": {
   "codemirror_mode": {
    "name": "ipython",
    "version": 3
   },
   "file_extension": ".py",
   "mimetype": "text/x-python",
   "name": "python",
   "nbconvert_exporter": "python",
   "pygments_lexer": "ipython3",
   "version": "3.8.5"
  }
 },
 "nbformat": 4,
 "nbformat_minor": 5
}
